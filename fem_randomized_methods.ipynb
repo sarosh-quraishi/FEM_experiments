{
 "cells": [
  {
   "cell_type": "code",
   "execution_count": 1,
   "metadata": {
    "collapsed": false
   },
   "outputs": [],
   "source": [
    "%matplotlib inline  \n",
    "import numpy as np\n",
    "import itertools\n",
    "\n",
    "from fem1d_classes import *\n",
    "from math import *\n",
    "import matplotlib.pyplot as plt\n",
    "import hierarchical_basis_helper as hier\n",
    "from functools import reduce\n",
    "from scipy.linalg import block_diag\n"
   ]
  },
  {
   "cell_type": "markdown",
   "metadata": {},
   "source": [
    "  The PDE is defined for 0 < x < 1:\n",
    "      -u'' = f\n",
    "    with right hand side\n",
    "      f(x) = -(exact(x)'')\n",
    "    and boundary conditions\n",
    "      u(0) = exact(0),\n",
    "      u(1) = exact(1).\n",
    "\n",
    "    For the exact solution:\n",
    "      exact(x) = x * ( 1 - x ) * exp ( x )\n",
    "    the boundary conditions are\n",
    "      u(0) = 0.0,\n",
    "      u(1) = 0.0\n",
    "    and the right hand side is:\n",
    "      f(x) = x * ( x + 3 ) * exp ( x )\n"
   ]
  },
  {
   "cell_type": "code",
   "execution_count": 2,
   "metadata": {
    "collapsed": true
   },
   "outputs": [],
   "source": [
    "def plot_matrix(A):\n",
    "    #plot matrices\n",
    "    cmap = plt.cm.get_cmap('PiYG', 11)    # 11 discrete colors\n",
    "    plt.imshow(A,cmap=cmap,interpolation='none')\n",
    "    plt.colorbar()\n",
    "    plt.show()"
   ]
  },
  {
   "cell_type": "code",
   "execution_count": 3,
   "metadata": {
    "collapsed": true
   },
   "outputs": [],
   "source": [
    "def FEM_system(level, rhsfn):\n",
    "    #\n",
    "    #  Set a mesh of N=2**(level) elements or 2**level+1 nodes in [ xleft, xright ].\n",
    "    #\n",
    "\n",
    "    xleft = 0.0\n",
    "    xright = 1.0\n",
    "    N  = 2**(level)\n",
    "    \n",
    "   \n",
    "    mesh = Mesh ( N, xleft, xright )\n",
    "    #\n",
    "    #  Define the shape functions associated with any element.\n",
    "    #\n",
    "    sfns = Shapefns ( )\n",
    "    #\n",
    "    #  The mesh and shape functions define the function space V.\n",
    "    #\n",
    "    V = FunctionSpace ( mesh, sfns )\n",
    "    #\n",
    "    #  Get the coordinates of the degrees of freedom.\n",
    "    #  Because we use quadratic Lagrange elements, there are 2*N+1 of them.\n",
    "    #\n",
    "    x = V.dofpts()\n",
    "    #\n",
    "    #  Evaluate the right hand side of the PDE at each node.\n",
    "    #\n",
    "    rhs = rhsfn ( x )\n",
    "    #\n",
    "    #  Compute b, the right hand side of the finite element system.\n",
    "    #\n",
    "    b = V.int_phi ( rhs )\n",
    "    #\n",
    "    #  Compute A, the stiffness matrix.\n",
    "    #\n",
    "    A = V.int_phi_phi ( derivative = [ True, True ] )\n",
    "   \n",
    "    return A, b, x\n",
    "    "
   ]
  },
  {
   "cell_type": "code",
   "execution_count": 4,
   "metadata": {
    "collapsed": true
   },
   "outputs": [],
   "source": [
    "def BoundaryCondition(A,b,exactfn,x):\n",
    "    #\n",
    "    #  Modify the linear system to enforce the left boundary condition.\n",
    "    #\n",
    "    exact = exactfn ( x )\n",
    "    A[0,0] = 1.0\n",
    "    A[0,1:] = 0.0\n",
    "    b[0] = exact[0]\n",
    "\n",
    "    #\n",
    "    #  Modify the linear system to enforce the right boundary condition.\n",
    "    #\n",
    "    A[-1,-1] = 1.0\n",
    "    A[-1,0:-1] = 0.0\n",
    "    b[-1] = exact[-1]\n",
    "    return A,b\n",
    "    "
   ]
  },
  {
   "cell_type": "code",
   "execution_count": 5,
   "metadata": {
    "collapsed": false
   },
   "outputs": [],
   "source": [
    "level = 4\n",
    "rhsfn = lambda x: x*(x+3)*e**x\n",
    "exactfn = lambda x: x*(1-x)*e**x"
   ]
  },
  {
   "cell_type": "code",
   "execution_count": 6,
   "metadata": {
    "collapsed": false
   },
   "outputs": [
    {
     "data": {
      "image/png": "[encoded data removed]",
      "text/plain": [
       "<matplotlib.figure.Figure at 0x7f0515284668>"
      ]
     },
     "metadata": {},
     "output_type": "display_data"
    }
   ],
   "source": [
    "Aorig,b,x = FEM_system(level, rhsfn)\n",
    "#Aorig,b = BoundaryCondition(Aorig,b,exactfn,x)\n",
    "plot_matrix(Aorig)"
   ]
  },
  {
   "cell_type": "code",
   "execution_count": 7,
   "metadata": {
    "collapsed": false
   },
   "outputs": [
    {
     "name": "stdout",
     "output_type": "stream",
     "text": [
      "(33, 17)\n"
     ]
    },
    {
     "data": {
      "image/png": "[encoded data removed]",
      "text/plain": [
       "<matplotlib.figure.Figure at 0x7f0512d024a8>"
      ]
     },
     "metadata": {},
     "output_type": "display_data"
    }
   ],
   "source": [
    "Pmat = hier.create_Pmat(level)  \n",
    "print(Pmat.shape)\n",
    "plot_matrix(Pmat)"
   ]
  },
  {
   "cell_type": "code",
   "execution_count": 8,
   "metadata": {
    "collapsed": true
   },
   "outputs": [],
   "source": [
    "def getAjj(level, rhsfn, exactfn):\n",
    "    A11,b1,x = FEM_system(level, rhsfn)\n",
    "    A11,b1 = BoundaryCondition(A11,b1,exactfn,x)\n",
    "    return A11, b1\n",
    "    "
   ]
  },
  {
   "cell_type": "code",
   "execution_count": 9,
   "metadata": {
    "collapsed": false
   },
   "outputs": [
    {
     "data": {
      "image/png": "[encoded data removed]",
      "text/plain": [
       "<matplotlib.figure.Figure at 0x7f0512c40828>"
      ]
     },
     "metadata": {},
     "output_type": "display_data"
    }
   ],
   "source": [
    "A11,b1 = getAjj(level, rhsfn, exactfn)\n",
    "plot_matrix(A11)"
   ]
  },
  {
   "cell_type": "code",
   "execution_count": 10,
   "metadata": {
    "collapsed": true
   },
   "outputs": [],
   "source": [
    "def get_next_A(A11,b1, level, rhsfn, exactfn):\n",
    "    \"\"\"\n",
    "    Given A11 mat from previous level, and next level find next A matrix\n",
    "    \"\"\"\n",
    "    Av, bv = getAjj(level, rhsfn, exactfn)\n",
    "    Add = Av \n",
    "    Av_list=[]\n",
    "    bv_list=[bv]\n",
    "    alist = np.arange(level,0,-1)\n",
    "    for idx, i in enumerate(alist): \n",
    "        Pmat = hier.create_Pmat(i)  # order is P21,P32, ...\n",
    "        Av = np.dot(Pmat.T,Av)        \n",
    "        Av_list.append(Av)\n",
    "        bv = np.dot(Pmat.T,bv)\n",
    "        bv_list.append(bv)\n",
    "\n",
    "    Avv = list(reversed(Av_list))  \n",
    "    Ahh = [Av.T for Av in Avv]\n",
    "    Avertical = np.vstack(Avv)\n",
    "\n",
    "    Ahorizontal = np.hstack(Ahh)\n",
    "    A22 = np.array(np.bmat([[A11, Avertical], [Ahorizontal,Add]]))\n",
    "    b2 = np.array(list(itertools.chain(*bv_list)))\n",
    "    return A22, b2\n",
    "        "
   ]
  },
  {
   "cell_type": "code",
   "execution_count": 11,
   "metadata": {
    "collapsed": false
   },
   "outputs": [
    {
     "data": {
      "image/png": "[encoded data removed]",
      "text/plain": [
       "<matplotlib.figure.Figure at 0x7f0512b028d0>"
      ]
     },
     "metadata": {},
     "output_type": "display_data"
    }
   ],
   "source": [
    "def get_multilevel_Ab(maxlevel, rhsfn, exactfn):\n",
    "    A11,b1 = getAjj(0, rhsfn, exactfn)\n",
    "    for level in np.arange(1,maxlevel):\n",
    "        A11, b1 = get_next_A(A11,b1, level, rhsfn, exactfn)\n",
    "    return A11, b1\n",
    "A,b = get_multilevel_Ab(5, rhsfn, exactfn)\n",
    "plot_matrix(A)    "
   ]
  },
  {
   "cell_type": "code",
   "execution_count": 12,
   "metadata": {
    "collapsed": false
   },
   "outputs": [
    {
     "data": {
      "text/plain": [
       "(5, 5)"
      ]
     },
     "execution_count": 12,
     "metadata": {},
     "output_type": "execute_result"
    }
   ],
   "source": [
    "Ajj,bj = getAjj(1, rhsfn, exactfn)\n",
    "Ajj.shape"
   ]
  },
  {
   "cell_type": "code",
   "execution_count": 13,
   "metadata": {
    "collapsed": false
   },
   "outputs": [],
   "source": [
    "def append_system(U, n):\n",
    "    return block_diag(U,np.eye(n))\n",
    "def extend_system(x1,n):\n",
    "    x1list = [x1,np.zeros(n)]\n",
    "    x1 = np.array(list(itertools.chain(*x1list)))\n",
    "    return x1\n",
    "def get_sv(A11,sthresh=1e-1):\n",
    "    U1, s1, V1 = np.linalg.svd(A11)\n",
    "    U1 = U1[:,s1>sthresh]\n",
    "    V1 = V1[:,s1>sthresh]\n",
    "    return U1,V1\n",
    "def project_system(U1,V1,A11,b1):\n",
    "    return np.dot(U1.T,np.dot(A11,V1)), np.dot(U1.T,b1)\n",
    "    "
   ]
  },
  {
   "cell_type": "code",
   "execution_count": 16,
   "metadata": {
    "collapsed": false
   },
   "outputs": [],
   "source": [
    "thresh=1e-1\n",
    "def get_residual(maxlevel, rhsfn, exactfn):\n",
    "    A11,b1 = get_multilevel_Ab(0, rhsfn, exactfn)     \n",
    "    U1,V1 = get_sv(A11)\n",
    "    A11,b1 = project_system(U1,V1,A11,b1)\n",
    "    print('coarse scale system '+ str(A11.shape))\n",
    "    x1 = np.squeeze(np.linalg.solve(A11, b1))\n",
    "    print('x1 tilde ' + str(x1.shape))\n",
    "\n",
    "    Ulist = [U1]\n",
    "    Vlist = [V1]\n",
    "\n",
    "    for level in np.arange(2,maxlevel):\n",
    "        Ajj,bj = getAjj(level-1, rhsfn, exactfn)\n",
    "        n=len(Ajj)\n",
    "        Ulist = [append_system(U,n) for U in Ulist]\n",
    "        U1 = reduce(lambda x, y: np.dot(x,y), Ulist)\n",
    "        \n",
    "        Vlist = [append_system(U,n) for U in Vlist]\n",
    "        V1 = reduce(lambda x, y: np.dot(x,y), Vlist)\n",
    "        \n",
    "        x1 = extend_system(x1,n)\n",
    "        print('x_(j) tilde extended with zeros '+ str(x1.shape ) )\n",
    "        A11,b1 = get_multilevel_Ab(level, rhsfn, exactfn)\n",
    "        print('projected extended system ' + str(A11.shape))\n",
    "        print('matrices used for projection: '+ str(U1.shape))\n",
    "        print(V1.shape)\n",
    "        A11,b1 = project_system(U1,V1,A11,b1)\n",
    "        res = np.dot(A11,x1) - b1\n",
    "\n",
    "        if res.all()>thresh:\n",
    "            U1,V1 = get_sv(A11)\n",
    "            Ulist.append(U1)\n",
    "            Vlist.append(V1)\n",
    "            A11,b1 = project_system(U1,V1,A11,b1)\n",
    "            x1 = np.squeeze(np.linalg.solve(A11, b1))\n",
    "            print('solution of next level projected system x_(j+1) tilde' + str(x1.shape))\n",
    "        else:\n",
    "            print('breaking at level: ' + level)\n",
    "            break\n",
    "    return res, Ulist, Vlist"
   ]
  },
  {
   "cell_type": "code",
   "execution_count": 17,
   "metadata": {
    "collapsed": false
   },
   "outputs": [
    {
     "name": "stdout",
     "output_type": "stream",
     "text": [
      "coarse scale system (3, 3)\n",
      "x1 tilde (3,)\n",
      "x_(j) tilde extended with zeros (8,)\n",
      "projected extended system (8, 8)\n",
      "matrices used for projection: (8, 8)\n",
      "(8, 8)\n",
      "solution of next level projected system x_(j+1) tilde(7,)\n",
      "x_(j) tilde extended with zeros (16,)\n",
      "projected extended system (17, 17)\n",
      "matrices used for projection: (17, 16)\n",
      "(17, 16)\n",
      "solution of next level projected system x_(j+1) tilde(15,)\n",
      "x_(j) tilde extended with zeros (32,)\n",
      "projected extended system (34, 34)\n",
      "matrices used for projection: (34, 32)\n",
      "(34, 32)\n",
      "solution of next level projected system x_(j+1) tilde(29,)\n",
      "x_(j) tilde extended with zeros (62,)\n",
      "projected extended system (67, 67)\n",
      "matrices used for projection: (67, 62)\n",
      "(67, 62)\n",
      "solution of next level projected system x_(j+1) tilde(57,)\n"
     ]
    },
    {
     "data": {
      "text/plain": [
       "array([ -3.23090578e-01,  -8.59362856e-01,  -3.76647807e-01,\n",
       "        -5.77043402e-01,  -5.68352363e-01,  -2.06272029e-01,\n",
       "         1.24627186e-01,   8.25551336e-02,   2.08753869e-01,\n",
       "        -5.23172678e-01,  -1.54174592e-01,   1.11549454e-01,\n",
       "         3.19374136e-02,   2.38968983e-01,  -4.89764602e-01,\n",
       "        -3.11677240e-01,   1.81429737e-02,   1.25729009e-01,\n",
       "         6.93685857e-01,  -1.47591487e+00,   5.20546316e-01,\n",
       "         7.34390344e-01,  -4.23290207e-01,  -8.41236701e-01,\n",
       "        -8.81163534e-01,   1.30768503e-01,  -7.56000494e-01,\n",
       "         5.36705389e-01,   3.85347839e-01,   2.79189192e+01,\n",
       "        -3.29920145e+01,   3.02297961e+00,  -6.54608102e-02,\n",
       "        -5.52303228e-02,  -1.15410845e-01,  -8.22314171e-02,\n",
       "        -1.80723104e-01,   9.95516267e-03,  -2.65031859e-01,\n",
       "        -1.07145966e-01,  -3.72723935e-01,   9.16955369e-02,\n",
       "        -5.09082286e-01,  -1.38568089e-01,  -2.11115638e-01,\n",
       "        -1.11876497e-01,  -5.69716105e-02,  -5.02750271e-01,\n",
       "        -2.32737057e-01,  -6.77920422e-01,  -5.32979658e-01,\n",
       "        -6.23560164e-01,  -1.02253158e+00,   4.94896574e-01,\n",
       "        -3.69978238e-02,   8.70604290e-02,  -7.46673270e-01,\n",
       "        -1.32485624e+00,  -1.01735562e+00,   3.01841276e+00,\n",
       "        -2.97911712e+01,   2.12785809e+01])"
      ]
     },
     "execution_count": 17,
     "metadata": {},
     "output_type": "execute_result"
    }
   ],
   "source": [
    "res, Ulist, Vlist = get_residual(6, rhsfn, exactfn)\n",
    "res"
   ]
  },
  {
   "cell_type": "code",
   "execution_count": 74,
   "metadata": {
    "collapsed": true
   },
   "outputs": [],
   "source": [
    "\n",
    "    "
   ]
  },
  {
   "cell_type": "code",
   "execution_count": 18,
   "metadata": {
    "collapsed": false
   },
   "outputs": [],
   "source": [
    "maxlevel=5\n",
    "A11, b1 = get_multilevel_Ab(maxlevel, rhsfn, exactfn)"
   ]
  },
  {
   "cell_type": "code",
   "execution_count": 19,
   "metadata": {
    "collapsed": false
   },
   "outputs": [
    {
     "data": {
      "image/png": "[encoded data removed]",
      "text/plain": [
       "<matplotlib.figure.Figure at 0x7f0512af8c18>"
      ]
     },
     "metadata": {},
     "output_type": "display_data"
    }
   ],
   "source": [
    "plot_matrix(A11)"
   ]
  },
  {
   "cell_type": "code",
   "execution_count": null,
   "metadata": {
    "collapsed": true
   },
   "outputs": [],
   "source": []
  },
  {
   "cell_type": "code",
   "execution_count": null,
   "metadata": {
    "collapsed": true
   },
   "outputs": [],
   "source": []
  }
 ],
 "metadata": {
  "kernelspec": {
   "display_name": "Python 3",
   "language": "python",
   "name": "python3"
  },
  "language_info": {
   "codemirror_mode": {
    "name": "ipython",
    "version": 3
   },
   "file_extension": ".py",
   "mimetype": "text/x-python",
   "name": "python",
   "nbconvert_exporter": "python",
   "pygments_lexer": "ipython3",
   "version": "3.5.1"
  }
 },
 "nbformat": 4,
 "nbformat_minor": 0
}
